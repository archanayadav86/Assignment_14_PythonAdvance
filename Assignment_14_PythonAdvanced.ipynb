{
 "cells": [
  {
   "cell_type": "markdown",
   "metadata": {},
   "source": [
    "Q1. Is an assignment operator like += only for show? Is it possible that it would lead to faster results at the runtime?"
   ]
  },
  {
   "cell_type": "markdown",
   "metadata": {},
   "source": [
    "Ans--> Unless your assignment is very complex (like a deep, deep copy of a large object), the time to do the comparison will outweigh just doing the assignment each time, regardless. It is saving time by avoiding the assignment if the strings are already equal.Assignment operators run faster than their equivalent long forms."
   ]
  },
  {
   "cell_type": "markdown",
   "metadata": {},
   "source": [
    "Q2. What is the smallest number of statements you'd have to write in most programming languages to replace the Python expression a, b = a + b, a?"
   ]
  },
  {
   "cell_type": "markdown",
   "metadata": {},
   "source": [
    "Ans-->In Python, the expression \"a, b = b, a+b\" is used to swap the values of two variables.\n",
    "a = 1 \n",
    "b = 2 \n",
    "a, b = b, a + b \n",
    "The right side would get evaluated first.\n",
    "\n",
    "In line 1, the right side evaluates to 1. Then we assign 1 to a.\n",
    "\n",
    "In line 2, the right side evaluates to 2. Then we assign 2 to b.\n",
    "\n",
    "In line 3, the right side evaluates to a tuple (2, 3). We then unpack this tuple and assign the two values to a and b respectively."
   ]
  },
  {
   "cell_type": "markdown",
   "metadata": {},
   "source": [
    "Q3. In Python, what is the most effective way to set a list of 100 integers to 0?"
   ]
  },
  {
   "cell_type": "markdown",
   "metadata": {},
   "source": [
    "Ans-->numbers = input([range(0,100)])\n",
    " \n",
    "\n",
    "numbers.sort(reverse = True)\n",
    " \n",
    "print(numbers)"
   ]
  },
  {
   "cell_type": "markdown",
   "metadata": {},
   "source": [
    "Q4. What is the most effective way to initialise a list of 99 integers that repeats the sequence 1, 2, 3? S If necessary, show step-by-step instructions on how to accomplish this.\n",
    "\n"
   ]
  },
  {
   "cell_type": "markdown",
   "metadata": {},
   "source": [
    "Ans-->\n",
    "\n",
    "y = []\n",
    "\n",
    "def four(a,b):\n",
    "    for i in range(a,b):\n",
    "        for ii in range(a,b):\n",
    "            if i != ii:\n",
    "                for iii in range(a,b):\n",
    "                    if i != iii and ii != iii:\n",
    "                        for iiii in range(a,b):\n",
    "                            if i != iiii and ii != iiii and iii != iiii:\n",
    "                    if i in y and ii in y and iii in y and iiii in y:\n",
    "four(1,100)"
   ]
  },
  {
   "cell_type": "markdown",
   "metadata": {},
   "source": [
    "Q5. If you're using IDLE to run a Python application, explain how to print a multidimensional list as efficiently?"
   ]
  },
  {
   "cell_type": "markdown",
   "metadata": {},
   "source": [
    "Ans-->array() function and pass in a list of lists as an argument. Each inner list represents a row of the array, and the outer list contains all the rows. Finally, we print the array using the print() function. NumPy also provides other functions to create multi-dimensional arrays, such as np."
   ]
  },
  {
   "cell_type": "markdown",
   "metadata": {},
   "source": [
    "Q6. Is it possible to use list comprehension with a string? If so, how can you go about doing it?"
   ]
  },
  {
   "cell_type": "markdown",
   "metadata": {},
   "source": [
    "Ans--> List comprehension in Python is an easy and compact syntax for creating a list from a string or another list. It is a very concise way to create a new list by performing an operation on each item in the existing list. List comprehension is considerably faster than processing a list using the for loop."
   ]
  },
  {
   "cell_type": "markdown",
   "metadata": {},
   "source": [
    "Q7. From the command line, how do you get support with a user-written Python programme? Is this possible from inside IDLE?"
   ]
  },
  {
   "cell_type": "markdown",
   "metadata": {},
   "source": [
    "Ans-->sing the command line to make IDLE pop up with a filename.py to run; ie >>> idle filename.py. From the command line, just do “python filename.py”. If we want to edit the file with Idle, you can do “python -m idlelib filename.py”.\n",
    "Run the sys. argv command once in the IDLE shell; then use execfile('wordcount.py') to run the script, with those arguments."
   ]
  },
  {
   "cell_type": "markdown",
   "metadata": {},
   "source": [
    "Q8. Functions are said to be “first-class objects” in Python but not in most other languages, such as C++ or Java. What can you do in Python with a function (callable object) that you can't do in C or C++?"
   ]
  },
  {
   "cell_type": "markdown",
   "metadata": {},
   "source": [
    "Ans--> C++ is a high-level and object-oriented programming language that allows you to do procedural programming, which is very close to CPU and provides full control over the hardware. Python is an interpreted, high-level, and general-purpose programming language used to develop all types of projects.\n",
    "The main difference between C and Python is that, C is a structure oriented programming language while Python is an object oriented programming language. In general, C is used for developing hardware operable applications, and python is used as a general purpose programming language."
   ]
  },
  {
   "cell_type": "markdown",
   "metadata": {},
   "source": [
    "Q9. How do you distinguish between a wrapper, a wrapped feature, and a decorator?"
   ]
  },
  {
   "cell_type": "markdown",
   "metadata": {},
   "source": [
    "Ans--> Function wrappers are useful tools for modifying the behavior of functions. In Python, they're called decorators. Decorators allow us to extend the behavior of a function or a class without changing the original implementation of the wrapped function.\n",
    "wrapper is simply a function that calls the original function with some extra neat stuff added to it.\n",
    "\n",
    "A decorator is something that takes a function as an input, and returns a new function, one that (usually) wraps the original one"
   ]
  },
  {
   "cell_type": "markdown",
   "metadata": {},
   "source": [
    "Q10. If a function is a generator function, what does it return?"
   ]
  },
  {
   "cell_type": "markdown",
   "metadata": {},
   "source": [
    "Ans-->  A generator is a function that returns an iterator that produces a sequence of values when iterated over. Generators are useful when we want to produce a large sequence of values, but we don't want to store all of them in memory at once.\n"
   ]
  },
  {
   "cell_type": "markdown",
   "metadata": {},
   "source": [
    "Q11. What is the one improvement that must be made to a function in order for it to become a generator function in the Python language?"
   ]
  },
  {
   "cell_type": "markdown",
   "metadata": {},
   "source": [
    "Ans-->To create a generator, we need a special syntax construct: function* , so-called “generator function”. Generator functions behave differently from regular ones. When such function is called, it doesn't run its code. Instead it returns a special object, called “generator object”, to manage the execution."
   ]
  },
  {
   "cell_type": "markdown",
   "metadata": {},
   "source": [
    "Q12. Identify at least one benefit of generators."
   ]
  },
  {
   "cell_type": "markdown",
   "metadata": {},
   "source": [
    "Ans-->A Python generator function allows you to declare a function that behaves like an iterator, providing a faster and easier way to create iterators. They can be used on an abstract container of data to turn it into an iterable object like lists, dictionaries and strings.\n",
    "It allow us to define an iterative algorithm by writing a single function whose execution is not continuous. Generator functions are written using the function* syntax. When called, generator functions do not initially execute their code."
   ]
  }
 ],
 "metadata": {
  "kernelspec": {
   "display_name": "Python 3",
   "language": "python",
   "name": "python3"
  },
  "language_info": {
   "codemirror_mode": {
    "name": "ipython",
    "version": 3
   },
   "file_extension": ".py",
   "mimetype": "text/x-python",
   "name": "python",
   "nbconvert_exporter": "python",
   "pygments_lexer": "ipython3",
   "version": "3.7.6"
  }
 },
 "nbformat": 4,
 "nbformat_minor": 4
}
